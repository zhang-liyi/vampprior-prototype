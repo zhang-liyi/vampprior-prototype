{
  "cells": [
    {
      "cell_type": "code",
      "execution_count": 1,
      "metadata": {
        "id": "vU8_ISd0hSfe"
      },
      "outputs": [
        {
          "name": "stdout",
          "output_type": "stream",
          "text": [
            "Intel MKL WARNING: Support of Intel(R) Streaming SIMD Extensions 4.2 (Intel(R) SSE4.2) enabled only processors has been deprecated. Intel oneAPI Math Kernel Library 2025.0 will require Intel(R) Advanced Vector Extensions (Intel(R) AVX) instructions.\n",
            "Intel MKL WARNING: Support of Intel(R) Streaming SIMD Extensions 4.2 (Intel(R) SSE4.2) enabled only processors has been deprecated. Intel oneAPI Math Kernel Library 2025.0 will require Intel(R) Advanced Vector Extensions (Intel(R) AVX) instructions.\n"
          ]
        }
      ],
      "source": [
        "import numpy as np\n",
        "import tarfile\n",
        "import pickle"
      ]
    },
    {
      "cell_type": "code",
      "execution_count": 30,
      "metadata": {
        "colab": {
          "base_uri": "https://localhost:8080/",
          "height": 53
        },
        "id": "LMJ34t6l6FwW",
        "outputId": "e788aade-bb6f-4743-d375-84531d914ddf"
      },
      "outputs": [
        {
          "data": {
            "application/vnd.google.colaboratory.intrinsic+json": {
              "type": "string"
            },
            "text/plain": [
              "'\\nDataset source: https://github.com/jcpeterson/cifar-10h/tree/master\\n\\nThe mapping from category names to labels is: \\n\"airplane\": 0, \"automobile\": 1, \"bird\": 2, \"cat\": 3, \"deer\": 4, \"dog\": 5, \"frog\": 6, \"horse\": 7, \"ship\": 8, \"truck\": 9, \\nwhich match the original CIFAR-10 dataset.\\n'"
            ]
          },
          "execution_count": 30,
          "metadata": {},
          "output_type": "execute_result"
        }
      ],
      "source": [
        "#import CIFAR10H human ratings (soft labels)\n",
        "'''\n",
        "Dataset source: https://github.com/jcpeterson/cifar-10h/tree/master\n",
        "\n",
        "The mapping from category names to labels is:\n",
        "\"airplane\": 0, \"automobile\": 1, \"bird\": 2, \"cat\": 3, \"deer\": 4, \"dog\": 5, \"frog\": 6, \"horse\": 7, \"ship\": 8, \"truck\": 9,\n",
        "which match the original CIFAR-10 dataset.\n",
        "'''\n",
        "\n",
        "probs = np.load('cifar10h-probs.npy')"
      ]
    },
    {
      "cell_type": "code",
      "execution_count": null,
      "metadata": {
        "colab": {
          "base_uri": "https://localhost:8080/"
        },
        "id": "bnw3MZ90BJfB",
        "outputId": "870dda25-13cf-40cc-c741-68617c99eeb4"
      },
      "outputs": [],
      "source": [
        "#import test labels from CIFAR10\n",
        "\n",
        "tar_path = 'cifar-10-python.tar.gz'\n",
        "with tarfile.open(tar_path, 'r:gz') as tar:\n",
        "    tar.extractall(path='./cifar-10-data')\n",
        "\n",
        "def load_cifar10_test_labels(file_path):\n",
        "    with open(file_path, 'rb') as file:\n",
        "        batch = pickle.load(file, encoding='latin1')\n",
        "        labels = batch['labels']\n",
        "        return labels\n",
        "\n",
        "# Path to the test batch file\n",
        "test_batch_path = './cifar-10-data/cifar-10-batches-py/test_batch'\n",
        "\n",
        "test_labels = load_cifar10_test_labels(test_batch_path)"
      ]
    },
    {
      "cell_type": "code",
      "execution_count": 41,
      "metadata": {
        "id": "BE7CeApa6SLH"
      },
      "outputs": [],
      "source": [
        "def entropy(unnormalized_vector):\n",
        "  vector = unnormalized_vector / np.sum(unnormalized_vector)\n",
        "  return np.sum([p*-np.log(p) if p != 0 else 0 for p in vector])"
      ]
    },
    {
      "cell_type": "code",
      "execution_count": 47,
      "metadata": {
        "id": "8daH15jwBPaT"
      },
      "outputs": [],
      "source": [
        "test_labels = np.array(test_labels)\n",
        "entropies = np.array([entropy(v) for v in probs])\n",
        "\n",
        "# Initialize an array of zeros for sums\n",
        "sums = np.zeros(10)\n",
        "# Add entropys to their corresponding class index in sums\n",
        "np.add.at(sums, test_labels, entropies)\n",
        "\n",
        "#select top 4\n",
        "top_indices = np.argsort(-sums)[:4]"
      ]
    },
    {
      "cell_type": "code",
      "execution_count": 50,
      "metadata": {
        "colab": {
          "base_uri": "https://localhost:8080/"
        },
        "id": "BcIlEc3XC4a7",
        "outputId": "7af111d9-d8c9-4304-9a15-20665936e705"
      },
      "outputs": [
        {
          "name": "stdout",
          "output_type": "stream",
          "text": [
            "Highest entropy class indices:  [4 3 2 0] \n",
            "\n",
            "\n",
            "The highest entropy classes are:\n",
            "deer\n",
            "cat\n",
            "bird\n",
            "airplane\n"
          ]
        }
      ],
      "source": [
        "class_labels = {\"airplane\": 0, \"automobile\": 1, \"bird\": 2, \"cat\": 3, \"deer\": 4, \"dog\": 5, \"frog\": 6, \"horse\": 7, \"ship\": 8, \"truck\": 9}\n",
        "\n",
        "print(\"Highest entropy class indices: \", top_indices, '\\n\\n')\n",
        "print(\"The highest entropy classes are:\")\n",
        "for index in top_indices:\n",
        "    for label, class_index in class_labels.items():\n",
        "        if class_index == index:\n",
        "            print(label)"
      ]
    },
    {
      "cell_type": "code",
      "execution_count": null,
      "metadata": {},
      "outputs": [],
      "source": []
    },
    {
      "cell_type": "code",
      "execution_count": null,
      "metadata": {},
      "outputs": [],
      "source": []
    },
    {
      "cell_type": "code",
      "execution_count": null,
      "metadata": {},
      "outputs": [],
      "source": []
    }
  ],
  "metadata": {
    "colab": {
      "provenance": []
    },
    "kernelspec": {
      "display_name": "Python 3",
      "name": "python3"
    },
    "language_info": {
      "codemirror_mode": {
        "name": "ipython",
        "version": 3
      },
      "file_extension": ".py",
      "mimetype": "text/x-python",
      "name": "python",
      "nbconvert_exporter": "python",
      "pygments_lexer": "ipython3",
      "version": "3.8.17"
    }
  },
  "nbformat": 4,
  "nbformat_minor": 0
}
